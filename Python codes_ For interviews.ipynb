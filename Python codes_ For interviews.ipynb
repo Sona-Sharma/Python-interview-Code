{
 "cells": [
  {
   "cell_type": "code",
   "execution_count": 16,
   "metadata": {},
   "outputs": [
    {
     "name": "stdout",
     "output_type": "stream",
     "text": [
      "Enter the number:234\n",
      "The original number is 234\n",
      "['4', '3', '2']\n",
      "432\n"
     ]
    }
   ],
   "source": [
    "def rev(x):\n",
    "   res =[int(x) for x in str(num)]  #---------int is converted to string using list comprehension\n",
    "   res.reverse()\n",
    "   \n",
    "# convert string to integer\n",
    "   strings = [str(a) for a in res]\n",
    "   print(strings)\n",
    "   a_string = \"\". join(strings)\n",
    "   an_integer = int(a_string)\n",
    "   return an_integer\n",
    "   \n",
    "\n",
    "num=int(input(\"Enter the number:\"))\n",
    "# printing number \n",
    "print(\"The original number is \" + str(num))\n",
    "result=rev(num)\n",
    "print(result) \n",
    "\n",
    "\n",
    "\n"
   ]
  },
  {
   "cell_type": "code",
   "execution_count": 7,
   "metadata": {},
   "outputs": [
    {
     "name": "stdout",
     "output_type": "stream",
     "text": [
      "The original number is 123\n",
      "The list from number is [3, 2, 1]\n",
      "['3', '2', '1']\n",
      "321\n"
     ]
    }
   ],
   "source": [
    "# reverse number without function\n",
    "num = 123\n",
    "# printing number \n",
    "print (\"The original number is \" + str(num))\n",
    "  \n",
    "# using list comprehension\n",
    "# to convert number to list of integers\n",
    "res =[int(x) for x in str(num)]\n",
    "res.reverse()\n",
    "# printing result \n",
    "print (\"The list from number is \" + str(res))\n",
    "\n",
    "# convert string to integer\n",
    "strings = [str(a) for a in res]\n",
    "print(strings)\n",
    "a_string = \"\". join(strings)\n",
    "an_integer = int(a_string)\n",
    "print(an_integer)\n"
   ]
  },
  {
   "cell_type": "code",
   "execution_count": 1,
   "metadata": {},
   "outputs": [
    {
     "name": "stdout",
     "output_type": "stream",
     "text": [
      "Enter the number:354\n",
      "453\n",
      "The entered number:354\n",
      "The number is not palindrome: 453\n"
     ]
    }
   ],
   "source": [
    "def rev(x):\n",
    "   res =[int(x) for x in str(num)]  #---------int is converted to string using list comprehension\n",
    "   res.reverse()\n",
    "# convert string to integer\n",
    "   strings = [str(a) for a in res]\n",
    "   #print(strings)\n",
    "   a_string = \"\". join(strings)\n",
    "   an_integer = int(a_string)\n",
    "   return an_integer\n",
    " \n",
    "num=int(input(\"Enter the number:\"))\n",
    "# printing number \n",
    "#print(\"The original number is \" + str(num))\n",
    "result=rev(num)\n",
    "print(result) \n",
    "\n",
    "\n",
    "def isPalindrome(num):\n",
    "   if num==rev(num):\n",
    "     return True\n",
    "   else:\n",
    "     return False\n",
    "     \n",
    "\n",
    "\n",
    "conclusion=isPalindrome(num)\n",
    "if conclusion==True:\n",
    "  print(f\"The entered number:{num}\")\n",
    "  print(f\"The number is palindrome: {rev(num)}\")\n",
    "else:\n",
    "  print(f\"The entered number:{num}\")\n",
    "  print(f\"The number is not palindrome: {rev(num)}\")\n",
    "  \n",
    "\n"
   ]
  },
  {
   "cell_type": "code",
   "execution_count": 2,
   "metadata": {
    "scrolled": true
   },
   "outputs": [
    {
     "name": "stdout",
     "output_type": "stream",
     "text": [
      "Enter the string:tomsy\n",
      "ysmot\n",
      "The entered number:tomsy\n",
      "The number is not palindrome: ysmot\n"
     ]
    }
   ],
   "source": [
    "#check string is palindrome\n",
    "def rev(s):\n",
    "   res =list(s)  #---------int is converted to string using list comprehension\n",
    "   res.reverse()\n",
    "# convert string to integer\n",
    "   #strings = [str(a) for a in res]\n",
    "   #print(strings)\n",
    "   a_string = \"\". join(res)\n",
    "   #an_integer = int(a_string)\n",
    "   return a_string\n",
    " \n",
    "letter=(input(\"Enter the string:\"))\n",
    "# printing number \n",
    "#print(\"The original number is \" + str(num))\n",
    "result=rev(letter)\n",
    "print(result) \n",
    "\n",
    "\n",
    "def isPalindrome(letter):\n",
    "   if letter==rev(letter):\n",
    "     return True\n",
    "   else:\n",
    "     return False\n",
    "     \n",
    "\n",
    "\n",
    "conclusion=isPalindrome(letter)\n",
    "if conclusion==True:\n",
    "  print(f\"The entered number:{letter}\")\n",
    "  print(f\"The number is palindrome: {rev(letter)}\")\n",
    "else:\n",
    "  print(f\"The entered number:{letter}\")\n",
    "  print(f\"The number is not palindrome: {rev(letter)}\")\n",
    "  \n",
    "\n"
   ]
  },
  {
   "cell_type": "code",
   "execution_count": 5,
   "metadata": {},
   "outputs": [
    {
     "name": "stdout",
     "output_type": "stream",
     "text": [
      "Enter size of list: 5\n",
      "enter the elements in the list--2\n",
      "enter the elements in the list--8\n",
      "enter the elements in the list--4\n",
      "enter the elements in the list--6\n",
      "enter the elements in the list--1\n",
      "second largest number in list: [2, 8, 4, 6, 1]\n",
      "8\n"
     ]
    }
   ],
   "source": [
    "# largest second number among three numbers\n",
    "def sec_largest_number(num):\n",
    "    num.sort()\n",
    "    return num[-2]\n",
    "\n",
    "\n",
    "list1=[]\n",
    "n=int(input(\"Enter size of list: \"))\n",
    "for i in range(0,n):\n",
    "    x=int(input(\"enter the elements in the list--\"))\n",
    "    list1.append(x)\n",
    "\n",
    "print(f\"second largest number in list: {list1}\")\n",
    "print(sec_largest_number(list1))\n",
    "    "
   ]
  },
  {
   "cell_type": "code",
   "execution_count": 10,
   "metadata": {},
   "outputs": [
    {
     "name": "stdout",
     "output_type": "stream",
     "text": [
      "Enter a number : 18\n",
      "DONE!!!!\n"
     ]
    }
   ],
   "source": [
    "#prime number from 1 to 20,skip 2,stop at 15\n",
    "def prime(num):\n",
    "    while num<16:\n",
    "        if num > 1:\n",
    "            for i in range(20):\n",
    "                if (num==2):\n",
    "                    return (\"skip the number !!!!\")\n",
    "                    break\n",
    "                if (num % 2) == 0:\n",
    "                     return (num,\"is not a prime number\")\n",
    "                     break\n",
    "                else:\n",
    "                    return (num,\"is a prime number\")\n",
    "        else:\n",
    "            return(num,\"is not a prime number\")\n",
    "    return (\"DONE!!!!\")\n",
    "    \n",
    "    \n",
    "x = int(input(\"Enter a number : \"))\n",
    "result=prime(x)\n",
    "print(result)\n",
    "\n",
    "\n"
   ]
  },
  {
   "cell_type": "code",
   "execution_count": null,
   "metadata": {},
   "outputs": [],
   "source": []
  },
  {
   "cell_type": "code",
   "execution_count": null,
   "metadata": {},
   "outputs": [],
   "source": []
  }
 ],
 "metadata": {
  "kernelspec": {
   "display_name": "Python 3",
   "language": "python",
   "name": "python3"
  },
  "language_info": {
   "codemirror_mode": {
    "name": "ipython",
    "version": 3
   },
   "file_extension": ".py",
   "mimetype": "text/x-python",
   "name": "python",
   "nbconvert_exporter": "python",
   "pygments_lexer": "ipython3",
   "version": "3.7.6"
  }
 },
 "nbformat": 4,
 "nbformat_minor": 4
}
